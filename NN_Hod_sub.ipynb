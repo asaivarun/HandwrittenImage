{
 "cells": [
  {
   "cell_type": "code",
   "execution_count": null,
   "metadata": {},
   "outputs": [],
   "source": [
    "import pandas as pd\n",
    "from keras.models import Sequential\n",
    "from keras.layers import Dense, Activation, Dropout\n",
    "from keras.callbacks import EarlyStopping, TensorBoard,ModelCheckpoint\n",
    "import numpy as np\n"
   ]
  },
  {
   "cell_type": "markdown",
   "metadata": {},
   "source": [
    "# <font color='blue'>Creating Training and Testing Datafiles</font>"
   ]
  },
  {
   "cell_type": "code",
   "execution_count": null,
   "metadata": {},
   "outputs": [],
   "source": [
    "def processData(dataset):\n",
    "    \n",
    "    # Why do we have to process? \n",
    "    #After you have selected the data, you need to consider how you are going to use the data. This preprocessing step is about getting the selected data into a form that we can work.\n",
    "    labels  = dataset[:,3:4]\n",
    "    data  = dataset[:,4:len(dataset[1])]\n",
    "    \n",
    "    return data, labels"
   ]
  },
  {
   "cell_type": "markdown",
   "metadata": {},
   "source": [
    "## Model Definition"
   ]
  },
  {
   "cell_type": "code",
   "execution_count": null,
   "metadata": {},
   "outputs": [],
   "source": [
    "\n",
    "input_size = 10 #training data maximum value is 1000 needs 10 bits to represent in binary\n",
    "drop_out = 0.2  \n",
    "first_dense_layer_nodes  = 2048\n",
    "sec_dense_layer_nodes = 1024\n",
    "second_dense_layer_nodes = 2\n",
    "\n",
    "def get_model(a):\n",
    "    \n",
    "    # Why do we need a model?\n",
    "    #A model helps to explain a system and to study the effects of different components, and to make predictions about behavior.\n",
    "    # Why use Dense layer and then activation?\n",
    "    # Dense layer is just your regular densely-connected NN layer and the activation function need to be applied to an output of dense layer.\n",
    "    # Why use sequential model with layers?\n",
    "    #The Sequential model is just a linear stack of layers.\n",
    "\n",
    "\n",
    "    model = Sequential()\n",
    "    \n",
    "    model.add(Dense(first_dense_layer_nodes, input_dim=a))\n",
    "    model.add(Activation('relu'))\n",
    "    \n",
    "    # Why dropout?\n",
    "    # To Prevent Neural Networks from Overfitting\n",
    "    model.add(Dropout(drop_out))\n",
    "    \n",
    "    model.add(Dense(sec_dense_layer_nodes))\n",
    "    model.add(Activation('relu'))\n",
    "    model.add(Dense(second_dense_layer_nodes))\n",
    "    model.add(Activation('softmax'))\n",
    "    # Why Softmax?\n",
    "    #To reduce the influence of extreme values in the data  without removing them from the data s#\n",
    "    model.summary()\n",
    "    \n",
    "    # Why use categorical_crossentropy?\n",
    "    #Loss function to calculate the amount of inaccuracy\n",
    "    model.compile(optimizer='adadelta',\n",
    "                  loss='sparse_categorical_crossentropy',\n",
    "                  metrics=['accuracy'])\n",
    "    \n",
    "    return model"
   ]
  },
  {
   "cell_type": "markdown",
   "metadata": {},
   "source": [
    "# <font color='blue'>Creating Model</font>"
   ]
  },
  {
   "cell_type": "code",
   "execution_count": null,
   "metadata": {
    "scrolled": true
   },
   "outputs": [],
   "source": [
    "# Read Dataset\n",
    "dataset = pd.read_csv('Hod_sub.csv')\n",
    "dataset=dataset.values\n",
    "model = get_model(len(dataset[1])-4)"
   ]
  },
  {
   "cell_type": "markdown",
   "metadata": {},
   "source": [
    "# <font color = blue>Run Model</font>"
   ]
  },
  {
   "cell_type": "code",
   "execution_count": null,
   "metadata": {
    "scrolled": true
   },
   "outputs": [],
   "source": [
    "validation_data_split = 0.2\n",
    "num_epochs = 10000\n",
    "model_batch_size = 128\n",
    "tb_batch_size = 32\n",
    "early_patience = 20\n",
    "\n",
    "                                                                                                                                                                                                                                                                                                                                                                                                                                                                                                                                                                                                                                                                                                                                                                                                                                                                                                                                                                                                                                                                                                                                                                                                                                                                                                                                                                                                                                                                                                                                                                                                                                                                                                                                                                                                                                                                                                                                                                                                                                                                                                                                                                                                                                                                                                                                                                                                                                                                                                                                                                                                                                                                                                                                                                                                                                                                                                                                                                                                                                                                                                                                                                                                                                                                                                                                                                                                                                                                                                                                                                                                                                                                                                                                                                                                                                                                                                                                                                                                                                                                                                                                                                                                                                                                                                                                                                                                                                                                                                                                                                                                                                                                                                                                                                                                                                                                                                                                                                                                                                                                                                                                                                                                                                                                                                                                                                                                                                                                                                                                                                                                                                                                                                                                                                                                                                                                                                                                                                                                                                                                                                               \n",
    "tensorboard_cb   = TensorBoard(log_dir='logs', batch_size= tb_batch_size, write_graph= True)\n",
    "#filepath='max.csv'\n",
    "#checkpoint=ModelCheckpoint(filepath, monitor='val_acc', verbose=1, save_best_only=True, save_weights_only=False, mode='max', period=1)\n",
    "#checkpoint=ModelCheckpoint(filepath, monitor='val_acc', verbose=1, save_best_only=True, save_weights_only=False, mode='max', period=1)\n",
    "earlystopping_cb = EarlyStopping(monitor='val_loss', verbose=1, patience=early_patience, mode='min')\n",
    "\n",
    "\n",
    "# Process Dataset\n",
    "processedData, processedLabel = processData(dataset[0:int(0.9*len(dataset)),:])\n",
    "history = model.fit(processedData\n",
    "                    , processedLabel\n",
    "                    , validation_split=validation_data_split\n",
    "                    , epochs=num_epochs\n",
    "                    , batch_size=model_batch_size\n",
    "                    , callbacks = [tensorboard_cb,earlystopping_cb]\n",
    "                   )"
   ]
  },
  {
   "cell_type": "markdown",
   "metadata": {},
   "source": [
    "# <font color = blue>Training and Validation Graphs</font>"
   ]
  },
  {
   "cell_type": "code",
   "execution_count": null,
   "metadata": {},
   "outputs": [],
   "source": [
    "%matplotlib inline\n",
    "df = pd.DataFrame(history.history)\n",
    "df.plot(subplots=True, grid=True, figsize=(10,15))"
   ]
  },
  {
   "cell_type": "markdown",
   "metadata": {},
   "source": [
    "# <font color = blue>Testing Accuracy [Software 2.0]</font>"
   ]
  },
  {
   "cell_type": "code",
   "execution_count": null,
   "metadata": {},
   "outputs": [],
   "source": [
    "def Accuracy(VAL_TEST_OUT,ValDataAct):\n",
    "    t=0\n",
    "    accuracy = 0.0\n",
    "    counter = 0\n",
    "    val = 0.0\n",
    "    for i in range (0,len(VAL_TEST_OUT)):\n",
    "#         print(sum(ValDataAct[i] - VAL_TEST_OUT[i]))\n",
    "        if(int(np.around(VAL_TEST_OUT[i].astype(np.double), 0)) == ValDataAct[i]):\n",
    "            counter+=1\n",
    "    accuracy = (float((counter*100))/float(len(VAL_TEST_OUT)))\n",
    "    ##print (\"Accuracy Generated..\")\n",
    "    ##print (\"Validation E_RMS : \" + str(math.sqrt(sum/len(VAL_TEST_OUT))))\n",
    "    return str(accuracy)"
   ]
  },
  {
   "cell_type": "code",
   "execution_count": null,
   "metadata": {
    "scrolled": false
   },
   "outputs": [],
   "source": [
    "wrong   = 0\n",
    "right   = 0\n",
    "\n",
    "testData = dataset[int(0.9*len(dataset)):len(dataset)]\n",
    "\n",
    "processedTestData  = testData[:,4:len(dataset[1])]\n",
    "processedTestLabel  = testData[:,3:4]\n",
    "predictedTestLabel = []\n",
    "\n",
    "# for i in range(1,len(testData)):\n",
    "     #print(np.array(i))\n",
    "# y = model.predict(processedTestData)\n",
    "TL,TA = model.evaluate(processedTestData,processedTestLabel )\n",
    "     #print(np.array(i).reshape(-1,10))\n",
    "print(TA*100)    \n",
    "# predictedTestLabel=np.amax(y, axis=1)\n",
    "# A=Accuracy(predictedTestLabel,processedTestLabel)\n",
    "# print(predictedTestLabel.shape)\n",
    "# if processedTestLabel[i] == y.argmax():\n",
    "#         right = right + 1\n",
    "#     else:\n",
    "#         wrong = wrong + 1\n",
    "\n",
    "\n",
    "# print(\"Errors: \" + str(wrong), \" Correct :\" + str(right))\n",
    "\n",
    "# print(\"Testing Accuracy: \" + A)\n",
    "\n",
    "# # Please input your UBID and personNumber \n",
    "# testDataInput = testData['input'].tolist()\n",
    "# testDataLabel = testData['label'].tolist()\n",
    "\n",
    "# testDataInput.insert(0, \"UBID\")\n",
    "# testDataLabel.insert(0, \"saivarun\")\n",
    "\n",
    "# testDataInput.insert(1, \"personNumber\")\n",
    "# testDataLabel.insert(1, \"XXXXXXXX\")\n",
    "\n",
    "# predictedTestLabel.insert(0, \"\")\n",
    "# predictedTestLabel.insert(1, \"\")\n",
    "\n",
    "# output = {}\n",
    "# output[\"input\"] = testDataInput\n",
    "# output[\"label\"] = testDataLabel\n",
    "\n",
    "# output[\"predicted_label\"] = predictedTestLabel\n",
    "\n",
    "# opdf = pd.DataFrame(output)\n",
    "# opdf.to_csv('output.csv')"
   ]
  },
  {
   "cell_type": "code",
   "execution_count": null,
   "metadata": {},
   "outputs": [],
   "source": []
  }
 ],
 "metadata": {
  "kernelspec": {
   "display_name": "Python 3",
   "language": "python",
   "name": "python3"
  },
  "language_info": {
   "codemirror_mode": {
    "name": "ipython",
    "version": 3
   },
   "file_extension": ".py",
   "mimetype": "text/x-python",
   "name": "python",
   "nbconvert_exporter": "python",
   "pygments_lexer": "ipython3",
   "version": "3.6.5"
  }
 },
 "nbformat": 4,
 "nbformat_minor": 2
}
