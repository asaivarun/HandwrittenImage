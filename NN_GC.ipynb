{
 "cells": [
  {
   "cell_type": "code",
   "execution_count": 142,
   "metadata": {},
   "outputs": [],
   "source": [
    "import pandas as pd\n",
    "from keras.models import Sequential\n",
    "from keras.layers import Dense, Activation, Dropout\n",
    "from keras.callbacks import EarlyStopping, TensorBoard,ModelCheckpoint\n",
    "import numpy as np\n"
   ]
  },
  {
   "cell_type": "markdown",
   "metadata": {},
   "source": [
    "# <font color='blue'>Creating Training and Testing Datafiles</font>"
   ]
  },
  {
   "cell_type": "code",
   "execution_count": 143,
   "metadata": {},
   "outputs": [],
   "source": [
    "def processData(dataset):\n",
    "    \n",
    "    # Why do we have to process? \n",
    "    #After you have selected the data, you need to consider how you are going to use the data. This preprocessing step is about getting the selected data into a form that we can work.\n",
    "    labels  = dataset[:,3:4]\n",
    "    data  = dataset[:,4:len(dataset[1])]\n",
    "    \n",
    "    return data, labels"
   ]
  },
  {
   "cell_type": "markdown",
   "metadata": {},
   "source": [
    "## Model Definition"
   ]
  },
  {
   "cell_type": "code",
   "execution_count": 144,
   "metadata": {},
   "outputs": [],
   "source": [
    "\n",
    "input_size = 10 #training data maximum value is 1000 needs 10 bits to represent in binary\n",
    "drop_out = 0.2  \n",
    "first_dense_layer_nodes  = 2048\n",
    "sec_dense_layer_nodes = 1024\n",
    "second_dense_layer_nodes = 2\n",
    "\n",
    "def get_model(a):\n",
    "    \n",
    "    # Why do we need a model?\n",
    "    #A model helps to explain a system and to study the effects of different components, and to make predictions about behavior.\n",
    "    # Why use Dense layer and then activation?\n",
    "    # Dense layer is just your regular densely-connected NN layer and the activation function need to be applied to an output of dense layer.\n",
    "    # Why use sequential model with layers?\n",
    "    #The Sequential model is just a linear stack of layers.\n",
    "\n",
    "\n",
    "    model = Sequential()\n",
    "    \n",
    "    model.add(Dense(first_dense_layer_nodes, input_dim=a))\n",
    "    model.add(Activation('relu'))\n",
    "    \n",
    "    # Why dropout?\n",
    "    # To Prevent Neural Networks from Overfitting\n",
    "    model.add(Dropout(drop_out))\n",
    "    \n",
    "    model.add(Dense(sec_dense_layer_nodes))\n",
    "    model.add(Activation('relu'))\n",
    "    model.add(Dense(second_dense_layer_nodes))\n",
    "    model.add(Activation('softmax'))\n",
    "    # Why Softmax?\n",
    "    #To reduce the influence of extreme values in the data  without removing them from the data s#\n",
    "    model.summary()\n",
    "    \n",
    "    # Why use categorical_crossentropy?\n",
    "    #Loss function to calculate the amount of inaccuracy\n",
    "    model.compile(optimizer='adadelta',\n",
    "                  loss='sparse_categorical_crossentropy',\n",
    "                  metrics=['accuracy'])\n",
    "    \n",
    "    return model"
   ]
  },
  {
   "cell_type": "markdown",
   "metadata": {},
   "source": [
    "# <font color='blue'>Creating Model</font>"
   ]
  },
  {
   "cell_type": "code",
   "execution_count": 145,
   "metadata": {
    "scrolled": true
   },
   "outputs": [
    {
     "name": "stdout",
     "output_type": "stream",
     "text": [
      "_________________________________________________________________\n",
      "Layer (type)                 Output Shape              Param #   \n",
      "=================================================================\n",
      "dense_31 (Dense)             (None, 2048)              2095104   \n",
      "_________________________________________________________________\n",
      "activation_31 (Activation)   (None, 2048)              0         \n",
      "_________________________________________________________________\n",
      "dropout_11 (Dropout)         (None, 2048)              0         \n",
      "_________________________________________________________________\n",
      "dense_32 (Dense)             (None, 1024)              2098176   \n",
      "_________________________________________________________________\n",
      "activation_32 (Activation)   (None, 1024)              0         \n",
      "_________________________________________________________________\n",
      "dense_33 (Dense)             (None, 2)                 2050      \n",
      "_________________________________________________________________\n",
      "activation_33 (Activation)   (None, 2)                 0         \n",
      "=================================================================\n",
      "Total params: 4,195,330\n",
      "Trainable params: 4,195,330\n",
      "Non-trainable params: 0\n",
      "_________________________________________________________________\n"
     ]
    }
   ],
   "source": [
    "# Read Dataset\n",
    "dataset = pd.read_csv('Gsc_concat.csv')\n",
    "dataset=dataset.values\n",
    "model = get_model(len(dataset[1])-4)"
   ]
  },
  {
   "cell_type": "markdown",
   "metadata": {},
   "source": [
    "# <font color = blue>Run Model</font>"
   ]
  },
  {
   "cell_type": "code",
   "execution_count": 146,
   "metadata": {
    "scrolled": true
   },
   "outputs": [
    {
     "name": "stdout",
     "output_type": "stream",
     "text": [
      "Train on 7200 samples, validate on 1800 samples\n",
      "Epoch 1/10000\n",
      "7200/7200 [==============================] - 9s 1ms/step - loss: 0.7829 - acc: 0.5697 - val_loss: 0.6747 - val_acc: 0.5394\n",
      "Epoch 2/10000\n",
      "7200/7200 [==============================] - 9s 1ms/step - loss: 0.6296 - acc: 0.6512 - val_loss: 0.5479 - val_acc: 0.7394\n",
      "Epoch 3/10000\n",
      "7200/7200 [==============================] - 9s 1ms/step - loss: 0.5454 - acc: 0.7281 - val_loss: 0.5335 - val_acc: 0.7300\n",
      "Epoch 4/10000\n",
      "7200/7200 [==============================] - 9s 1ms/step - loss: 0.4915 - acc: 0.7624 - val_loss: 0.5319 - val_acc: 0.7350\n",
      "Epoch 5/10000\n",
      "7200/7200 [==============================] - 9s 1ms/step - loss: 0.4329 - acc: 0.7953 - val_loss: 0.5241 - val_acc: 0.7444\n",
      "Epoch 6/10000\n",
      "7200/7200 [==============================] - 8s 1ms/step - loss: 0.3806 - acc: 0.8225 - val_loss: 0.4808 - val_acc: 0.7661\n",
      "Epoch 7/10000\n",
      "7200/7200 [==============================] - 9s 1ms/step - loss: 0.3128 - acc: 0.8688 - val_loss: 0.5281 - val_acc: 0.7700\n",
      "Epoch 8/10000\n",
      "7200/7200 [==============================] - 10s 1ms/step - loss: 0.3362 - acc: 0.8657 - val_loss: 0.6145 - val_acc: 0.7528\n",
      "Epoch 9/10000\n",
      "7200/7200 [==============================] - 11s 1ms/step - loss: 0.2429 - acc: 0.9031 - val_loss: 0.4883 - val_acc: 0.7761\n",
      "Epoch 10/10000\n",
      "7200/7200 [==============================] - 11s 2ms/step - loss: 0.1377 - acc: 0.9543 - val_loss: 0.6002 - val_acc: 0.7639\n",
      "Epoch 11/10000\n",
      "7200/7200 [==============================] - 9s 1ms/step - loss: 0.1615 - acc: 0.9406 - val_loss: 0.4995 - val_acc: 0.8078\n",
      "Epoch 12/10000\n",
      "7200/7200 [==============================] - 10s 1ms/step - loss: 0.0657 - acc: 0.9824 - val_loss: 0.5617 - val_acc: 0.8072\n",
      "Epoch 13/10000\n",
      "7200/7200 [==============================] - 10s 1ms/step - loss: 0.1091 - acc: 0.9697 - val_loss: 0.5061 - val_acc: 0.8144\n",
      "Epoch 14/10000\n",
      "7200/7200 [==============================] - 10s 1ms/step - loss: 0.0458 - acc: 0.9864 - val_loss: 1.9478 - val_acc: 0.5633\n",
      "Epoch 15/10000\n",
      "7200/7200 [==============================] - 10s 1ms/step - loss: 0.1184 - acc: 0.9729 - val_loss: 0.5780 - val_acc: 0.8189\n",
      "Epoch 16/10000\n",
      "7200/7200 [==============================] - 9s 1ms/step - loss: 0.0063 - acc: 0.9999 - val_loss: 0.7116 - val_acc: 0.8022\n",
      "Epoch 17/10000\n",
      "7200/7200 [==============================] - 10s 1ms/step - loss: 0.0856 - acc: 0.9765 - val_loss: 0.6045 - val_acc: 0.8161\n",
      "Epoch 18/10000\n",
      "7200/7200 [==============================] - 10s 1ms/step - loss: 0.0040 - acc: 1.0000 - val_loss: 0.6825 - val_acc: 0.8144\n",
      "Epoch 19/10000\n",
      "7200/7200 [==============================] - 11s 2ms/step - loss: 0.0021 - acc: 1.0000 - val_loss: 0.7537 - val_acc: 0.8106\n",
      "Epoch 20/10000\n",
      "7200/7200 [==============================] - 9s 1ms/step - loss: 0.0014 - acc: 1.0000 - val_loss: 0.7646 - val_acc: 0.8167\n",
      "Epoch 21/10000\n",
      "7200/7200 [==============================] - 11s 2ms/step - loss: 7.6480e-04 - acc: 1.0000 - val_loss: 0.7973 - val_acc: 0.8150\n",
      "Epoch 22/10000\n",
      "7200/7200 [==============================] - 11s 2ms/step - loss: 5.4664e-04 - acc: 1.0000 - val_loss: 0.8228 - val_acc: 0.8139\n",
      "Epoch 23/10000\n",
      "7200/7200 [==============================] - 9s 1ms/step - loss: 5.0212e-04 - acc: 1.0000 - val_loss: 0.8330 - val_acc: 0.8233\n",
      "Epoch 24/10000\n",
      "7200/7200 [==============================] - 11s 2ms/step - loss: 3.6486e-04 - acc: 1.0000 - val_loss: 0.8423 - val_acc: 0.8183\n",
      "Epoch 25/10000\n",
      "7200/7200 [==============================] - 10s 1ms/step - loss: 2.9768e-04 - acc: 1.0000 - val_loss: 0.8570 - val_acc: 0.8206\n",
      "Epoch 26/10000\n",
      "7200/7200 [==============================] - 11s 1ms/step - loss: 2.4798e-04 - acc: 1.0000 - val_loss: 0.8762 - val_acc: 0.8178\n",
      "Epoch 00026: early stopping\n"
     ]
    }
   ],
   "source": [
    "validation_data_split = 0.2\n",
    "num_epochs = 10000\n",
    "model_batch_size = 128\n",
    "tb_batch_size = 32\n",
    "early_patience = 20\n",
    "\n",
    "                                                                                                                                                                                                                                                                                                                                                                                                                                                                                                                                                                                                                                                                                                                                                                                                                                                                                                                                                                                                                                                                                                                                                                                                                                                                                                                                                                                                                                                                                                                                                                                                                                                                                                                                                                                                                                                                                                                                                                                                                                                                                                                                                                                                                                                                                                                                                                                                                                                                                                                                                                                                                                                                                                                                                                                                                                                                                                                                                                                                                                                                                                                                                                                                                                                                                                                                                                                                                                                                                                                                                                                                                                                                                                                                                                                                                                                                                                                                                                                                                                                                                                                                                                                                                                                                                                                                                                                                                                                                                                                                                                                                                                                                                                                                                                                                                                                                                                                                                                                                                                                                                                                                                                                                                                                                                                                                                                                                                                                                                                                                                                                                                                                                                                                                                                                                                                                                                                                                                                                                                                                                                                               \n",
    "tensorboard_cb   = TensorBoard(log_dir='logs', batch_size= tb_batch_size, write_graph= True)\n",
    "#filepath='max.csv'\n",
    "#checkpoint=ModelCheckpoint(filepath, monitor='val_acc', verbose=1, save_best_only=True, save_weights_only=False, mode='max', period=1)\n",
    "#checkpoint=ModelCheckpoint(filepath, monitor='val_acc', verbose=1, save_best_only=True, save_weights_only=False, mode='max', period=1)\n",
    "earlystopping_cb = EarlyStopping(monitor='val_loss', verbose=1, patience=early_patience, mode='min')\n",
    "\n",
    "\n",
    "# Process Dataset\n",
    "processedData, processedLabel = processData(dataset[0:int(0.9*len(dataset)),:])\n",
    "history = model.fit(processedData\n",
    "                    , processedLabel\n",
    "                    , validation_split=validation_data_split\n",
    "                    , epochs=num_epochs\n",
    "                    , batch_size=model_batch_size\n",
    "                    , callbacks = [tensorboard_cb,earlystopping_cb]\n",
    "                   )"
   ]
  },
  {
   "cell_type": "markdown",
   "metadata": {},
   "source": [
    "# <font color = blue>Training and Validation Graphs</font>"
   ]
  },
  {
   "cell_type": "code",
   "execution_count": 147,
   "metadata": {},
   "outputs": [
    {
     "data": {
      "text/plain": [
       "array([<matplotlib.axes._subplots.AxesSubplot object at 0x00000235064D75C0>,\n",
       "       <matplotlib.axes._subplots.AxesSubplot object at 0x000002350ECD4DA0>,\n",
       "       <matplotlib.axes._subplots.AxesSubplot object at 0x0000023507CD8F60>,\n",
       "       <matplotlib.axes._subplots.AxesSubplot object at 0x000002350665B160>],\n",
       "      dtype=object)"
      ]
     },
     "execution_count": 147,
     "metadata": {},
     "output_type": "execute_result"
    },
    {
     "data": {
      "image/png": "[encoded data removed]",
      "text/plain": [
       "<Figure size 720x1080 with 4 Axes>"
      ]
     },
     "metadata": {},
     "output_type": "display_data"
    }
   ],
   "source": [
    "%matplotlib inline\n",
    "df = pd.DataFrame(history.history)\n",
    "df.plot(subplots=True, grid=True, figsize=(10,15))"
   ]
  },
  {
   "cell_type": "markdown",
   "metadata": {},
   "source": [
    "# <font color = blue>Testing Accuracy [Software 2.0]</font>"
   ]
  },
  {
   "cell_type": "code",
   "execution_count": 148,
   "metadata": {},
   "outputs": [],
   "source": [
    "def Accuracy(VAL_TEST_OUT,ValDataAct):\n",
    "    t=0\n",
    "    accuracy = 0.0\n",
    "    counter = 0\n",
    "    val = 0.0\n",
    "    for i in range (0,len(VAL_TEST_OUT)):\n",
    "#         print(sum(ValDataAct[i] - VAL_TEST_OUT[i]))\n",
    "        if(int(np.around(VAL_TEST_OUT[i].astype(np.double), 0)) == ValDataAct[i]):\n",
    "            counter+=1\n",
    "    accuracy = (float((counter*100))/float(len(VAL_TEST_OUT)))\n",
    "    ##print (\"Accuracy Generated..\")\n",
    "    ##print (\"Validation E_RMS : \" + str(math.sqrt(sum/len(VAL_TEST_OUT))))\n",
    "    return str(accuracy)"
   ]
  },
  {
   "cell_type": "code",
   "execution_count": 149,
   "metadata": {
    "scrolled": false
   },
   "outputs": [
    {
     "name": "stdout",
     "output_type": "stream",
     "text": [
      "1000/1000 [==============================] - 0s 391us/step\n",
      "82.8\n"
     ]
    }
   ],
   "source": [
    "wrong   = 0\n",
    "right   = 0\n",
    "\n",
    "testData = dataset[int(0.9*len(dataset)):len(dataset)]\n",
    "\n",
    "processedTestData  = testData[:,4:len(dataset[1])]\n",
    "processedTestLabel  = testData[:,3:4]\n",
    "predictedTestLabel = []\n",
    "\n",
    "# for i in range(1,len(testData)):\n",
    "     #print(np.array(i))\n",
    "# y = model.predict(processedTestData)\n",
    "TL,TA = model.evaluate(processedTestData,processedTestLabel )\n",
    "     #print(np.array(i).reshape(-1,10))\n",
    "print(TA*100)    \n",
    "# predictedTestLabel=np.amax(y, axis=1)\n",
    "# A=Accuracy(predictedTestLabel,processedTestLabel)\n",
    "# print(predictedTestLabel.shape)\n",
    "# if processedTestLabel[i] == y.argmax():\n",
    "#         right = right + 1\n",
    "#     else:\n",
    "#         wrong = wrong + 1\n",
    "\n",
    "\n",
    "# print(\"Errors: \" + str(wrong), \" Correct :\" + str(right))\n",
    "\n",
    "# print(\"Testing Accuracy: \" + A)\n",
    "\n",
    "# # Please input your UBID and personNumber \n",
    "# testDataInput = testData['input'].tolist()\n",
    "# testDataLabel = testData['label'].tolist()\n",
    "\n",
    "# testDataInput.insert(0, \"UBID\")\n",
    "# testDataLabel.insert(0, \"saivarun\")\n",
    "\n",
    "# testDataInput.insert(1, \"personNumber\")\n",
    "# testDataLabel.insert(1, \"XXXXXXXX\")\n",
    "\n",
    "# predictedTestLabel.insert(0, \"\")\n",
    "# predictedTestLabel.insert(1, \"\")\n",
    "\n",
    "# output = {}\n",
    "# output[\"input\"] = testDataInput\n",
    "# output[\"label\"] = testDataLabel\n",
    "\n",
    "# output[\"predicted_label\"] = predictedTestLabel\n",
    "\n",
    "# opdf = pd.DataFrame(output)\n",
    "# opdf.to_csv('output.csv')"
   ]
  },
  {
   "cell_type": "code",
   "execution_count": null,
   "metadata": {},
   "outputs": [],
   "source": []
  }
 ],
 "metadata": {
  "kernelspec": {
   "display_name": "Python 3",
   "language": "python",
   "name": "python3"
  },
  "language_info": {
   "codemirror_mode": {
    "name": "ipython",
    "version": 3
   },
   "file_extension": ".py",
   "mimetype": "text/x-python",
   "name": "python",
   "nbconvert_exporter": "python",
   "pygments_lexer": "ipython3",
   "version": "3.6.5"
  }
 },
 "nbformat": 4,
 "nbformat_minor": 2
}
